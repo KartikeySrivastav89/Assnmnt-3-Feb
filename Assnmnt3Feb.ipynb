{
 "cells": [
  {
   "cell_type": "code",
   "execution_count": 2,
   "id": "91ee2579-5e2c-4661-8180-396364757e1f",
   "metadata": {},
   "outputs": [
    {
     "data": {
      "text/plain": [
       "' Ans The keyword used to create a function is \"def\".'"
      ]
     },
     "execution_count": 2,
     "metadata": {},
     "output_type": "execute_result"
    }
   ],
   "source": [
    "\"\"\" Ques No 1\"\"\"\n",
    "\n",
    "\"\"\" Ans \"\"\"  \"\"\"The keyword used to create a function is \"def\".\"\"\"\n",
    "\n",
    "\n"
   ]
  },
  {
   "cell_type": "code",
   "execution_count": 20,
   "id": "ebccbdad-57b3-453b-abde-00c7ae4360dd",
   "metadata": {},
   "outputs": [],
   "source": [
    "def odd_number():\n",
    "    odd_num = []\n",
    "    for i in range(1,26):\n",
    "        if i % 2 != 0:\n",
    "            odd_num.append(i)\n",
    "    return odd_num"
   ]
  },
  {
   "cell_type": "code",
   "execution_count": null,
   "id": "ddcf3cd8-762b-4ace-a9a4-6ce0361a2cfe",
   "metadata": {},
   "outputs": [],
   "source": [
    "\"\"\" Ques No 2\"\"\"\n",
    "\n",
    "\"\"\" Ans \"\"\"  \"\"\"*args and **kwargs are special syntaxes that can be used in function\n",
    "            definitions to allow for a variable number of arguments to be passed to the function\"\"\""
   ]
  },
  {
   "cell_type": "code",
   "execution_count": 22,
   "id": "222e06af-654b-448a-9c0b-e6483e206d59",
   "metadata": {},
   "outputs": [
    {
     "name": "stdout",
     "output_type": "stream",
     "text": [
      "2\n",
      "5\n",
      "6\n",
      "8\n",
      "10\n",
      "11\n"
     ]
    }
   ],
   "source": [
    "def my_fn(*args):\n",
    "    for i in args:\n",
    "        print(i)\n",
    "my_fn(2,5,6,8,10,11)"
   ]
  },
  {
   "cell_type": "code",
   "execution_count": 26,
   "id": "379787eb-42f3-4ae4-b2c1-2137a578a4f8",
   "metadata": {},
   "outputs": [
    {
     "name": "stdout",
     "output_type": "stream",
     "text": [
      "name Kartik\n",
      "age 25\n",
      "city Deoria\n"
     ]
    }
   ],
   "source": [
    "def my_function(**kwargs):\n",
    "    for key, value in kwargs.items():\n",
    "        print(key, value)\n",
    "\n",
    "my_function(name='Kartik', age=25, city='Deoria')"
   ]
  },
  {
   "cell_type": "code",
   "execution_count": 27,
   "id": "9c359fce-e926-4b2c-b819-5d7d3fc29de0",
   "metadata": {},
   "outputs": [
    {
     "data": {
      "text/plain": [
       "' Ans  An iterator is an object that can be iterated or looped. '"
      ]
     },
     "execution_count": 27,
     "metadata": {},
     "output_type": "execute_result"
    }
   ],
   "source": [
    "\"\"\" Ques No 3\"\"\"\n",
    "\n",
    "\"\"\" Ans \"\"\" \"\"\" An iterator is an object that can be iterated or looped. \"\"\""
   ]
  },
  {
   "cell_type": "code",
   "execution_count": 35,
   "id": "45b7a8ac-0dc7-4d8a-a9c1-f5009fce6321",
   "metadata": {},
   "outputs": [
    {
     "name": "stdout",
     "output_type": "stream",
     "text": [
      "2\n",
      "4\n",
      "6\n",
      "8\n",
      "10\n"
     ]
    }
   ],
   "source": [
    "my_list = [2, 4, 6, 8, 10, 12, 14, 16, 18, 20]\n",
    "my_iter = iter(my_list)\n",
    "\n",
    "for i in range(5):\n",
    "    print(next(my_iter))"
   ]
  },
  {
   "cell_type": "code",
   "execution_count": 36,
   "id": "82848069-5966-4c4b-9dbc-c839fdba4b9a",
   "metadata": {},
   "outputs": [
    {
     "data": {
      "text/plain": [
       "' Ans  A generator function is a special type of function that uses the yield keyword to return an iterator object '"
      ]
     },
     "execution_count": 36,
     "metadata": {},
     "output_type": "execute_result"
    }
   ],
   "source": [
    "\"\"\" Ques No 4\"\"\"\n",
    "\n",
    "\"\"\" Ans \"\"\" \"\"\" A generator function is a special type of function that uses the yield keyword to return an iterator object \"\"\""
   ]
  },
  {
   "cell_type": "code",
   "execution_count": 43,
   "id": "a3839c72-bb23-4409-9dd8-7ffc0dc51221",
   "metadata": {},
   "outputs": [
    {
     "name": "stdout",
     "output_type": "stream",
     "text": [
      "0\n",
      "1\n",
      "4\n",
      "9\n",
      "16\n"
     ]
    }
   ],
   "source": [
    "def sq(n):\n",
    "    for i in range(n):\n",
    "        yield i**2\n",
    "        \n",
    "my_fn = sq(5)\n",
    "for i in my_fn:\n",
    "    print(i)"
   ]
  },
  {
   "cell_type": "code",
   "execution_count": 44,
   "id": "8531a49e-d41c-4365-beec-22c25c0f47bc",
   "metadata": {},
   "outputs": [
    {
     "data": {
      "text/plain": [
       "' Ans '"
      ]
     },
     "execution_count": 44,
     "metadata": {},
     "output_type": "execute_result"
    }
   ],
   "source": [
    "\"\"\" Ques No 5\"\"\"\n",
    "\n",
    "\"\"\" Ans \"\"\" "
   ]
  },
  {
   "cell_type": "code",
   "execution_count": 55,
   "id": "5ebe933e-8932-425c-8663-c04ea4f3f9bf",
   "metadata": {},
   "outputs": [],
   "source": [
    "def primes():\n",
    "    primes = []\n",
    "    for i in range(2,1000):\n",
    "        for j in primes:\n",
    "            if i % j ==0:\n",
    "                break\n",
    "        else:\n",
    "            primes.append(i)\n",
    "            yield i\n"
   ]
  },
  {
   "cell_type": "code",
   "execution_count": 56,
   "id": "39038701-0a58-4773-9ad7-7bf0a6a7ab4e",
   "metadata": {},
   "outputs": [
    {
     "name": "stdout",
     "output_type": "stream",
     "text": [
      "2\n",
      "3\n",
      "5\n",
      "7\n",
      "11\n",
      "13\n",
      "17\n",
      "19\n",
      "23\n",
      "29\n",
      "31\n",
      "37\n",
      "41\n",
      "43\n",
      "47\n",
      "53\n",
      "59\n",
      "61\n",
      "67\n",
      "71\n"
     ]
    }
   ],
   "source": [
    "generate_prime = primes()\n",
    "for i in range(20):\n",
    "    print(next(generate_prime))"
   ]
  },
  {
   "cell_type": "code",
   "execution_count": 58,
   "id": "2390e9c3-aa76-4952-8cc8-da0c2f7a1360",
   "metadata": {},
   "outputs": [
    {
     "data": {
      "text/plain": [
       "' Ans '"
      ]
     },
     "execution_count": 58,
     "metadata": {},
     "output_type": "execute_result"
    }
   ],
   "source": [
    "\"\"\" Ques No 6\"\"\"\n",
    "\n",
    "\"\"\" Ans \"\"\" "
   ]
  },
  {
   "cell_type": "code",
   "execution_count": 59,
   "id": "7f97c6b1-2357-4fef-b104-60d5389fc6a9",
   "metadata": {},
   "outputs": [
    {
     "name": "stdout",
     "output_type": "stream",
     "text": [
      "0\n",
      "1\n",
      "1\n",
      "2\n",
      "3\n",
      "5\n",
      "8\n",
      "13\n",
      "21\n",
      "34\n"
     ]
    }
   ],
   "source": [
    "a, b = 0, 1\n",
    "count = 0\n",
    "\n",
    "while count < 10:\n",
    "    print(a)\n",
    "    c = a + b\n",
    "    a = b\n",
    "    b = c\n",
    "    count += 1"
   ]
  },
  {
   "cell_type": "code",
   "execution_count": 62,
   "id": "fe7a6e0d-2c84-48f8-b341-9f809aaf7230",
   "metadata": {},
   "outputs": [
    {
     "data": {
      "text/plain": [
       "' Ans '"
      ]
     },
     "execution_count": 62,
     "metadata": {},
     "output_type": "execute_result"
    }
   ],
   "source": [
    "\"\"\" Ques No 7\"\"\"\n",
    "\n",
    "\"\"\" Ans \"\"\" "
   ]
  },
  {
   "cell_type": "code",
   "execution_count": 66,
   "id": "79e2491a-4134-4160-9d7f-53c9df4ba428",
   "metadata": {},
   "outputs": [
    {
     "name": "stdout",
     "output_type": "stream",
     "text": [
      "['p', 'w', 's', 'k', 'i', 'l', 'l', 's']\n"
     ]
    }
   ],
   "source": [
    "string = 'pwskills'\n",
    "result = [char for char in string if char in {'p', 'w', 's', 'k', 'i', 'l'}]\n",
    "print(result)"
   ]
  },
  {
   "cell_type": "code",
   "execution_count": 67,
   "id": "6ca9370f-cdd0-4755-81e1-83490eeac30c",
   "metadata": {},
   "outputs": [
    {
     "data": {
      "text/plain": [
       "' Ans '"
      ]
     },
     "execution_count": 67,
     "metadata": {},
     "output_type": "execute_result"
    }
   ],
   "source": [
    "\"\"\" Ques No 8\"\"\"\n",
    "\n",
    "\"\"\" Ans \"\"\""
   ]
  },
  {
   "cell_type": "code",
   "execution_count": 70,
   "id": "8f191367-2999-4044-b333-70d6ed7ae89f",
   "metadata": {},
   "outputs": [
    {
     "name": "stdin",
     "output_type": "stream",
     "text": [
      "Enter a number:  123454321\n"
     ]
    },
    {
     "name": "stdout",
     "output_type": "stream",
     "text": [
      "123454321 is a palindrome number\n"
     ]
    }
   ],
   "source": [
    "num = int(input(\"Enter a number: \"))\n",
    "temp = num\n",
    "reverse_num = 0\n",
    "\n",
    "while temp > 0:\n",
    "    digit = temp % 10\n",
    "    reverse_num = reverse_num * 10 + digit\n",
    "    temp //= 10\n",
    "\n",
    "if num == reverse_num:\n",
    "    print(num, \"is a palindrome number\")\n",
    "else:\n",
    "    print(num, \"is not a palindrome number\")"
   ]
  },
  {
   "cell_type": "code",
   "execution_count": 71,
   "id": "36b785d6-0941-4f36-8140-eb12960f3510",
   "metadata": {},
   "outputs": [
    {
     "data": {
      "text/plain": [
       "' Ans '"
      ]
     },
     "execution_count": 71,
     "metadata": {},
     "output_type": "execute_result"
    }
   ],
   "source": [
    "\"\"\" Ques No 9\"\"\"\n",
    "\n",
    "\"\"\" Ans \"\"\""
   ]
  },
  {
   "cell_type": "code",
   "execution_count": 72,
   "id": "2a23bd9a-353a-4578-bac2-8499769d19a2",
   "metadata": {},
   "outputs": [
    {
     "name": "stdout",
     "output_type": "stream",
     "text": [
      "[1, 3, 5, 7, 9, 11, 13, 15, 17, 19, 21, 23, 25, 27, 29, 31, 33, 35, 37, 39, 41, 43, 45, 47, 49, 51, 53, 55, 57, 59, 61, 63, 65, 67, 69, 71, 73, 75, 77, 79, 81, 83, 85, 87, 89, 91, 93, 95, 97, 99]\n"
     ]
    }
   ],
   "source": [
    "odd_numbers = [num for num in range(1, 101) if num % 2 != 0]\n",
    "print(odd_numbers)"
   ]
  },
  {
   "cell_type": "code",
   "execution_count": null,
   "id": "d1a0b22b-961e-4685-8cfc-6e0541e1a375",
   "metadata": {},
   "outputs": [],
   "source": []
  },
  {
   "cell_type": "code",
   "execution_count": null,
   "id": "1d0c3bf5-4deb-4418-b8fa-008151eb78bb",
   "metadata": {},
   "outputs": [],
   "source": []
  }
 ],
 "metadata": {
  "kernelspec": {
   "display_name": "Python 3 (ipykernel)",
   "language": "python",
   "name": "python3"
  },
  "language_info": {
   "codemirror_mode": {
    "name": "ipython",
    "version": 3
   },
   "file_extension": ".py",
   "mimetype": "text/x-python",
   "name": "python",
   "nbconvert_exporter": "python",
   "pygments_lexer": "ipython3",
   "version": "3.10.6"
  }
 },
 "nbformat": 4,
 "nbformat_minor": 5
}
